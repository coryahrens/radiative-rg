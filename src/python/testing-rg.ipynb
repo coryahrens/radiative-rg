{
 "metadata": {
  "name": "",
  "signature": "sha256:4648dbebc7cba4a3fef697ee8da8c7f80061dcc6add7eb50ce13b854ab35327b"
 },
 "nbformat": 3,
 "nbformat_minor": 0,
 "worksheets": [
  {
   "cells": [
    {
     "cell_type": "heading",
     "level": 5,
     "metadata": {},
     "source": [
      "Numerical Renormalization Group Example Calculation\n"
     ]
    },
    {
     "cell_type": "code",
     "collapsed": false,
     "input": [
      "#First try solving heat equation\n",
      "\n",
      "#parameters\n",
      "a     = 500.0 #half width of slab\n",
      "npnts = 5000\n",
      "dx    = 2.0*a/npnts\n",
      "dt    = 0.002\n",
      "x     = -a + dx*np.arange(npnts+1)\n",
      "\n",
      "beta  = dt/dx**2 \n",
      "\n",
      "u = np.zeros(npnts+1)\n",
      "\n",
      "#initial condition\n",
      "#u = np.exp(-x**2/(2*0.5))\n",
      "u = np.zeros_like(x)\n",
      "u[np.where(np.abs(x)<5.0)] = 1.0\n",
      "\n",
      "#boundary condition\n",
      "u[0],u[npnts] = 0.0, 0.0\n",
      "\n",
      "#Fix RG dilation parameter L\n",
      "L = 1.0 + 0.02\n",
      "nsteps = 10"
     ],
     "language": "python",
     "metadata": {},
     "outputs": [],
     "prompt_number": 1
    },
    {
     "cell_type": "code",
     "collapsed": false,
     "input": [
      "for k in range(500):\n",
      "    \n",
      "    #Evolve solution for 100 time steps\n",
      "    uic = u[npnts/2] #Before time evolution\n",
      "    for j in range(nsteps):\n",
      "        u[1:npnts-1] = (dt/dx**2)*u[0:npnts-2] + (dt/dx**2)*u[2:npnts] + (1.0 - 2.0*(dt/dx**2))*u[1:npnts-1]\n",
      "\n",
      "\n",
      "\n",
      "    #Calculate scaling exponents\n",
      "    alpha = np.log( uic / u[npnts/2] ) / np.log(L)   \n",
      "    \n",
      "    print alpha\n",
      "\n",
      "    #Rescale\n",
      "    u = L**alpha * u\n",
      "    dx = dx/L**0.5\n",
      "    \n",
      "    dt = 0.45*dx**2\n",
      "    nsteps = int(0.02/dt)\n",
      "    \n",
      "    "
     ],
     "language": "python",
     "metadata": {},
     "outputs": [
      {
       "output_type": "stream",
       "stream": "stdout",
       "text": [
        "0.0\n",
        "0.0\n",
        "0.0\n",
        "0.0\n",
        "0.0\n",
        "0.0\n",
        "0.0\n",
        "0.0\n",
        "0.0\n",
        "0.0\n",
        "0.0\n",
        "0.0\n",
        "0.0\n",
        "0.0\n",
        "0.0\n",
        "1.12128861289e-14\n",
        "0.0\n",
        "1.90619064191e-13\n",
        "4.21604518446e-12\n",
        "6.24894143963e-11\n",
        "6.51457471199e-10\n",
        "4.90747659448e-09\n",
        "2.71660198615e-08\n",
        "1.12264750131e-07\n",
        "3.56055476196e-07\n",
        "9.13148598538e-07\n",
        "2.02354518339e-06\n",
        "4.0275924126e-06\n",
        "7.31359261837e-06\n",
        "1.24618516474e-05\n",
        "5.05833846563e-05\n",
        "0.000109023703231\n",
        "0.000207165885069\n",
        "0.000357547090222\n",
        "0.00057217625946\n",
        "0.000861730086308\n",
        "0.00123499513397\n",
        "0.00169855406935\n",
        "0.00225668205775\n",
        "0.0029114060867\n",
        "0.00366267873624\n",
        "0.00450862324236\n",
        "0.00544581482377\n",
        "0.00646957184086\n",
        "0.00757423818795\n",
        "0.00875344484776\n",
        "0.0100003436421\n",
        "0.0113078099982\n",
        "0.0126686142128\n",
        "0.0140755624665\n",
        "0.0155216099215\n",
        "0.0260626026943\n",
        "0.0294692550247\n",
        "0.0329276449235\n",
        "0.0364106030522\n",
        "0.0398940543922\n",
        "0.043356993695\n",
        "0.0467813504963\n",
        "0.0501518043673\n",
        "0.0534555604307\n",
        "0.0566821123639\n",
        "0.0598230010865\n",
        "0.062871580794\n",
        "0.0658227965943\n",
        "0.0686729780492\n",
        "0.0958184544182\n",
        "0.100452296514\n",
        "0.104836105138\n",
        "0.108971654587\n",
        "0.112862941464\n",
        "0.116515665984\n",
        "0.119936802759\n",
        "0.123134248544\n",
        "0.126116535476\n",
        "0.128892599488\n",
        "0.13147159493\n",
        "0.167680915071\n",
        "0.1710710238\n",
        "0.174136361115\n",
        "0.176898225529\n",
        "0.179377079553\n",
        "0.181592443143\n",
        "0.183562832017\n",
        "0.185305729639\n",
        "0.18683758415\n",
        "0.188173823478\n",
        "0.227318282877\n",
        "0.228694651924\n",
        "0.229809093117\n",
        "0.230685187538\n",
        "0.231344540241\n",
        "0.231806923904\n",
        "0.232090418993\n",
        "0.270914700063\n",
        "0.270848130472\n",
        "0.270574662857\n",
        "0.270116920178\n",
        "0.269495242171\n",
        "0.268727915635\n",
        "0.267831382812\n",
        "0.304849055051\n",
        "0.303379385488\n",
        "0.301780146324\n",
        "0.300069164655\n",
        "0.298262245144\n",
        "0.296373402854\n",
        "0.331076233444\n",
        "0.328515642935\n",
        "0.325888118106\n",
        "0.323207160661\n",
        "0.320484570272\n",
        "0.352863019038\n",
        "0.349433319514\n",
        "0.345985404204\n",
        "0.34252941414\n",
        "0.339074047472\n",
        "0.369000331585\n",
        "0.364848806166\n",
        "0.360724664474\n",
        "0.356634431201\n",
        "0.352583524287\n",
        "0.380068092208\n",
        "0.375361140604\n",
        "0.370720070374\n",
        "0.366148080524\n",
        "0.39158404209\n",
        "0.386395506334\n",
        "0.381301858629\n",
        "0.405046279477\n",
        "0.3993702391\n",
        "0.393814285477\n",
        "0.388377747114\n",
        "0.410220499606\n",
        "0.404258992558\n",
        "0.398438795104\n",
        "0.418742437868\n",
        "0.412442834183\n",
        "0.406304042061\n",
        "0.425146992255\n",
        "0.418576595844\n",
        "0.41218365005\n",
        "0.429652779036\n",
        "0.422876110814\n",
        "0.416290461134\n",
        "0.432476834\n",
        "0.425553831593\n",
        "0.440693670288\n",
        "0.433472044275\n",
        "0.426467627299\n",
        "0.440480711036\n",
        "0.433220141026\n",
        "0.446304314845\n",
        "0.438824457303\n",
        "0.431578906528\n",
        "0.443692428646\n",
        "0.436263504133\n",
        "0.447564459344\n",
        "0.439985109857\n",
        "0.45052001573\n",
        "0.442821542234\n",
        "0.452636479115\n",
        "0.444848268304\n",
        "0.453988357269\n",
        "0.462513984639\n",
        "0.454360324261\n",
        "0.462285347744\n",
        "0.454124980123\n",
        "0.461491443309\n",
        "0.453345626232"
       ]
      },
      {
       "output_type": "stream",
       "stream": "stdout",
       "text": [
        "\n",
        "0.460193342008\n",
        "0.46653237804\n",
        "0.458191296312\n",
        "0.464078111073\n",
        "0.469499862626\n",
        "0.461037518132\n",
        "0.466069247225\n",
        "0.470677811883\n",
        "0.462159601456\n",
        "0.466435160508\n",
        "0.470327083351\n",
        "0.473850212813\n",
        "0.477019397506\n",
        "0.468252684505\n",
        "0.47118841802\n",
        "0.47380555728\n",
        "0.476117864834\n",
        "0.478138914385\n",
        "0.479882049564\n",
        "0.470992332478\n",
        "0.472604617751\n",
        "0.47396807394\n",
        "0.475094607753\n",
        "0.475995823608\n",
        "0.476683006169\n",
        "0.477167106531\n",
        "0.477458731702\n",
        "0.477568137071\n",
        "0.477505221556"
       ]
      },
      {
       "output_type": "stream",
       "stream": "stdout",
       "text": [
        "\n",
        "0.485874730109\n",
        "0.485172388629\n",
        "0.484334958438\n",
        "0.483370809517\n",
        "0.482287939925\n",
        "0.481093984355\n",
        "0.487460895756\n",
        "0.485777294922\n",
        "0.484012961729\n",
        "0.482173963071\n",
        "0.487365651202\n",
        "0.485126664268\n",
        "0.489670028181\n",
        "0.487078881144\n",
        "0.484456866312\n",
        "0.488256278604\n",
        "0.485340204595\n",
        "0.488617842818\n",
        "0.491533196445\n",
        "0.488134638021"
       ]
      },
      {
       "output_type": "stream",
       "stream": "stdout",
       "text": [
        "\n",
        "0.490604526054\n",
        "0.487013189501\n",
        "0.489080287559\n",
        "0.490852588346\n",
        "0.492344421576\n",
        "0.488256334862\n",
        "0.489433550386\n",
        "0.490365678111\n",
        "0.491065431411\n",
        "0.491545124892\n",
        "0.491816663622\n",
        "0.491891535874\n",
        "0.491780808981\n",
        "0.491495127965\n",
        "0.491044716568"
       ]
      },
      {
       "output_type": "stream",
       "stream": "stdout",
       "text": [
        "\n",
        "0.494814782354\n",
        "0.493895281258\n",
        "0.492844582457\n",
        "0.491671193554\n",
        "0.494430030701\n",
        "0.492879475814\n",
        "0.495126238605\n",
        "0.493244040657\n",
        "0.495028411869\n",
        "0.492856637629\n",
        "0.494224851088\n",
        "0.495331194082\n",
        "0.496189225645\n",
        "0.496812089781\n",
        "0.493885582666"
       ]
      },
      {
       "output_type": "stream",
       "stream": "stdout",
       "text": [
        "\n",
        "0.494205132369\n",
        "0.494322593899\n",
        "0.494249353564\n",
        "0.497072890237\n",
        "0.496531258218\n",
        "0.495834181177\n",
        "0.494991282936\n",
        "0.496855856971\n",
        "0.495638261336\n",
        "0.497039290599\n",
        "0.49549191638\n",
        "0.496476843019"
       ]
      },
      {
       "output_type": "stream",
       "stream": "stdout",
       "text": [
        "\n",
        "0.497218983477\n",
        "0.497731347684\n",
        "0.49802650773\n",
        "0.498116590004\n",
        "0.498013270763\n",
        "0.497727774718\n",
        "0.497270876254\n",
        "0.49665290295\n",
        "0.498085650181\n",
        "0.497089100883"
       ]
      },
      {
       "output_type": "stream",
       "stream": "stdout",
       "text": [
        "\n",
        "0.498079438881\n",
        "0.496749282228\n",
        "0.497343761382\n",
        "0.49771678181\n",
        "0.497880613223\n",
        "0.497847077198\n",
        "0.497627544729\n",
        "0.497232936559"
       ]
      },
      {
       "output_type": "stream",
       "stream": "stdout",
       "text": [
        "\n",
        "0.498481827969\n",
        "0.497697595518\n",
        "0.498508788369\n",
        "0.499084677757\n",
        "0.497767336547\n",
        "0.497976050845\n",
        "0.497984711559"
       ]
      },
      {
       "output_type": "stream",
       "stream": "stdout",
       "text": [
        "\n",
        "0.497804799412\n",
        "0.498991433709\n",
        "0.498406749748\n",
        "0.499151407335\n",
        "0.498208611808\n",
        "0.498558497471"
       ]
      },
      {
       "output_type": "stream",
       "stream": "stdout",
       "text": [
        "\n",
        "0.498699544157\n",
        "0.498643599924\n",
        "0.49840205826\n",
        "0.499304293673\n",
        "0.498672426586"
       ]
      },
      {
       "output_type": "stream",
       "stream": "stdout",
       "text": [
        "\n",
        "0.49915540628\n",
        "0.499421189242\n",
        "0.499481972058\n",
        "0.499349494021\n",
        "0.499035036184"
       ]
      },
      {
       "output_type": "stream",
       "stream": "stdout",
       "text": [
        "\n",
        "0.49854942304\n",
        "0.499028632019\n",
        "0.499291010786\n",
        "0.49934873614\n",
        "0.499213528122"
       ]
      },
      {
       "output_type": "stream",
       "stream": "stdout",
       "text": [
        "\n",
        "0.498896649111\n",
        "0.499428558836\n",
        "0.499740130174\n",
        "0.498863616491"
       ]
      },
      {
       "output_type": "stream",
       "stream": "stdout",
       "text": [
        "\n",
        "0.499770324501\n",
        "0.49949263572\n",
        "0.499041174169\n",
        "0.49933199802"
       ]
      },
      {
       "output_type": "stream",
       "stream": "stdout",
       "text": [
        "\n",
        "0.499416482758\n",
        "0.499306416022\n",
        "0.499013127412\n",
        "0.499384184421"
       ]
      },
      {
       "output_type": "stream",
       "stream": "stdout",
       "text": [
        "\n",
        "0.499544220377\n",
        "0.499505206468\n",
        "0.499278655353\n",
        "0.499648660857"
       ]
      },
      {
       "output_type": "stream",
       "stream": "stdout",
       "text": [
        "\n",
        "0.499807396373\n",
        "0.499766855066\n",
        "0.499538570352"
       ]
      },
      {
       "output_type": "stream",
       "stream": "stdout",
       "text": [
        "\n",
        "0.499847815171\n",
        "0.499248863212\n",
        "0.499867905104"
       ]
      },
      {
       "output_type": "stream",
       "stream": "stdout",
       "text": [
        "\n",
        "0.499588039942\n",
        "0.499794272247\n",
        "0.499798504806"
       ]
      },
      {
       "output_type": "stream",
       "stream": "stdout",
       "text": [
        "\n",
        "0.499612377349\n",
        "0.499868878353\n",
        "0.499920395368"
       ]
      },
      {
       "output_type": "stream",
       "stream": "stdout",
       "text": [
        "\n",
        "0.499778688125\n",
        "0.499455055991\n",
        "0.499534824704"
       ]
      },
      {
       "output_type": "stream",
       "stream": "stdout",
       "text": [
        "\n",
        "0.499983400052\n",
        "0.499663609592\n",
        "0.499713649626"
       ]
      },
      {
       "output_type": "stream",
       "stream": "stdout",
       "text": [
        "\n",
        "0.499570785369\n",
        "0.499766650129\n",
        "0.499761144594"
       ]
      },
      {
       "output_type": "stream",
       "stream": "stdout",
       "text": [
        "\n",
        "0.499565882678\n",
        "0.499682380895"
       ]
      },
      {
       "output_type": "stream",
       "stream": "stdout",
       "text": [
        "\n",
        "0.499602180065\n",
        "0.499808038401"
       ]
      },
      {
       "output_type": "stream",
       "stream": "stdout",
       "text": [
        "\n",
        "0.499811902658\n",
        "0.499625413078"
       ]
      },
      {
       "output_type": "stream",
       "stream": "stdout",
       "text": [
        "\n",
        "0.499703911716\n",
        "0.50002332899"
       ]
      },
      {
       "output_type": "stream",
       "stream": "stdout",
       "text": [
        "\n",
        "0.499707043102\n",
        "0.500056075327"
       ]
      },
      {
       "output_type": "stream",
       "stream": "stdout",
       "text": [
        "\n",
        "0.499784232749\n",
        "0.49974026288"
       ]
      },
      {
       "output_type": "stream",
       "stream": "stdout",
       "text": [
        "\n",
        "0.499903192398\n",
        "0.499866493326"
       ]
      },
      {
       "output_type": "stream",
       "stream": "stdout",
       "text": [
        "\n",
        "0.500020818505\n",
        "0.499975876188"
       ]
      },
      {
       "output_type": "stream",
       "stream": "stdout",
       "text": [
        "\n",
        "0.499743209204\n",
        "0.50004838256"
       ]
      },
      {
       "output_type": "stream",
       "stream": "stdout",
       "text": [
        "\n",
        "0.499795324595\n",
        "0.500053484622"
       ]
      },
      {
       "output_type": "stream",
       "stream": "stdout",
       "text": [
        "\n",
        "0.500106350886\n",
        "0.49996570378"
       ]
      },
      {
       "output_type": "stream",
       "stream": "stdout",
       "text": [
        "\n",
        "0.499966425936\n",
        "0.500094018685"
       ]
      },
      {
       "output_type": "stream",
       "stream": "stdout",
       "text": [
        "\n",
        "0.500023801819\n",
        "0.500072162796"
       ]
      },
      {
       "output_type": "stream",
       "stream": "stdout",
       "text": [
        "\n",
        "0.499927309141\n",
        "0.499893607882"
       ]
      },
      {
       "output_type": "stream",
       "stream": "stdout",
       "text": [
        "\n",
        "0.499958941837\n",
        "0.500111891565"
       ]
      },
      {
       "output_type": "stream",
       "stream": "stdout",
       "text": [
        "\n",
        "0.50006554855\n",
        "0.500102201424"
       ]
      },
      {
       "output_type": "stream",
       "stream": "stdout",
       "text": [
        "\n",
        "0.499946280871\n",
        "0.499869297894"
       ]
      },
      {
       "output_type": "stream",
       "stream": "stdout",
       "text": [
        "\n",
        "0.499861685798"
       ]
      },
      {
       "output_type": "stream",
       "stream": "stdout",
       "text": [
        "\n",
        "0.499914451866"
       ]
      },
      {
       "output_type": "stream",
       "stream": "stdout",
       "text": [
        "\n",
        "0.500019150414"
       ]
      },
      {
       "output_type": "stream",
       "stream": "stdout",
       "text": [
        "\n",
        "0.499927445457"
       ]
      },
      {
       "output_type": "stream",
       "stream": "stdout",
       "text": [
        "\n",
        "0.499886468204"
       ]
      },
      {
       "output_type": "stream",
       "stream": "stdout",
       "text": [
        "\n",
        "0.500119797785"
       ]
      },
      {
       "output_type": "stream",
       "stream": "stdout",
       "text": [
        "\n",
        "0.49992264259"
       ]
      },
      {
       "output_type": "stream",
       "stream": "stdout",
       "text": [
        "\n",
        "0.499990814238"
       ]
      },
      {
       "output_type": "stream",
       "stream": "stdout",
       "text": [
        "\n",
        "0.500082471832"
       ]
      },
      {
       "output_type": "stream",
       "stream": "stdout",
       "text": [
        "\n",
        "0.499978405759"
       ]
      },
      {
       "output_type": "stream",
       "stream": "stdout",
       "text": [
        "\n",
        "0.500108612189"
       ]
      },
      {
       "output_type": "stream",
       "stream": "stdout",
       "text": [
        "\n",
        "0.500040841525"
       ]
      },
      {
       "output_type": "stream",
       "stream": "stdout",
       "text": [
        "\n",
        "0.499987756671"
       ]
      },
      {
       "output_type": "stream",
       "stream": "stdout",
       "text": [
        "\n",
        "0.499944626312"
       ]
      },
      {
       "output_type": "stream",
       "stream": "stdout",
       "text": [
        "\n",
        "0.50010041355"
       ]
      },
      {
       "output_type": "stream",
       "stream": "stdout",
       "text": [
        "\n",
        "0.500056757549"
       ]
      },
      {
       "output_type": "stream",
       "stream": "stdout",
       "text": [
        "\n",
        "0.500011057978"
       ]
      },
      {
       "output_type": "stream",
       "stream": "stdout",
       "text": [
        "\n",
        "0.49995984039"
       ]
      },
      {
       "output_type": "stream",
       "stream": "stdout",
       "text": [
        "\n",
        "0.500078538114"
       ]
      },
      {
       "output_type": "stream",
       "stream": "stdout",
       "text": [
        "\n",
        "0.499999957012"
       ]
      },
      {
       "output_type": "stream",
       "stream": "stdout",
       "text": [
        "\n",
        "0.500078950174"
       ]
      },
      {
       "output_type": "stream",
       "stream": "stdout",
       "text": [
        "\n",
        "0.499962954163"
       ]
      },
      {
       "output_type": "stream",
       "stream": "stdout",
       "text": [
        "\n",
        "0.499993397922"
       ]
      },
      {
       "output_type": "stream",
       "stream": "stdout",
       "text": [
        "\n",
        "0.499993539757"
       ]
      },
      {
       "output_type": "stream",
       "stream": "stdout",
       "text": [
        "\n",
        "0.499961954889"
       ]
      },
      {
       "output_type": "stream",
       "stream": "stdout",
       "text": [
        "\n",
        "0.500052906371"
       ]
      },
      {
       "output_type": "stream",
       "stream": "stdout",
       "text": [
        "\n",
        "0.50010066619"
       ]
      },
      {
       "output_type": "stream",
       "stream": "stdout",
       "text": [
        "\n",
        "0.500104681207"
       ]
      },
      {
       "output_type": "stream",
       "stream": "stdout",
       "text": [
        "\n",
        "0.500064539041"
       ]
      },
      {
       "output_type": "stream",
       "stream": "stdout",
       "text": [
        "\n",
        "0.499979958849"
       ]
      },
      {
       "output_type": "stream",
       "stream": "stdout",
       "text": [
        "\n",
        "0.499991628858"
       ]
      },
      {
       "output_type": "stream",
       "stream": "stdout",
       "text": [
        "\n",
        "0.50008846087"
       ]
      },
      {
       "output_type": "stream",
       "stream": "stdout",
       "text": [
        "\n",
        "0.499989263921"
       ]
      },
      {
       "output_type": "stream",
       "stream": "stdout",
       "text": [
        "\n",
        "0.500103623397"
       ]
      },
      {
       "output_type": "stream",
       "stream": "stdout",
       "text": [
        "\n",
        "0.500020925575"
       ]
      },
      {
       "output_type": "stream",
       "stream": "stdout",
       "text": [
        "\n",
        "0.500007766198"
       ]
      },
      {
       "output_type": "stream",
       "stream": "stdout",
       "text": [
        "\n",
        "0.500055146398"
       ]
      },
      {
       "output_type": "stream",
       "stream": "stdout",
       "text": [
        "\n",
        "0.500032001671"
       ]
      },
      {
       "output_type": "stream",
       "stream": "stdout",
       "text": [
        "\n",
        "0.500060231156"
       ]
      },
      {
       "output_type": "stream",
       "stream": "stdout",
       "text": [
        "\n",
        "0.500014272894"
       ]
      },
      {
       "output_type": "stream",
       "stream": "stdout",
       "text": [
        "\n",
        "0.500011688513"
       ]
      },
      {
       "output_type": "stream",
       "stream": "stdout",
       "text": [
        "\n",
        "0.500045448002"
       ]
      },
      {
       "output_type": "stream",
       "stream": "stdout",
       "text": [
        "\n",
        "0.499997919874"
       ]
      },
      {
       "output_type": "stream",
       "stream": "stdout",
       "text": [
        "\n",
        "0.500089422538"
       ]
      },
      {
       "output_type": "stream",
       "stream": "stdout",
       "text": [
        "\n",
        "0.500091943879"
       ]
      },
      {
       "output_type": "stream",
       "stream": "stdout",
       "text": [
        "\n",
        "0.500008520512"
       ]
      },
      {
       "output_type": "stream",
       "stream": "stdout",
       "text": [
        "\n",
        "0.500047344922"
       ]
      },
      {
       "output_type": "stream",
       "stream": "stdout",
       "text": [
        "\n",
        "0.500094701615"
       ]
      },
      {
       "output_type": "stream",
       "stream": "stdout",
       "text": [
        "\n",
        "0.500047487717"
       ]
      },
      {
       "output_type": "stream",
       "stream": "stdout",
       "text": [
        "\n",
        "0.500005956214"
       ]
      },
      {
       "output_type": "stream",
       "stream": "stdout",
       "text": [
        "\n",
        "0.500060817322"
       ]
      },
      {
       "output_type": "stream",
       "stream": "stdout",
       "text": [
        "\n",
        "0.500015025504"
       ]
      },
      {
       "output_type": "stream",
       "stream": "stdout",
       "text": [
        "\n",
        "0.500054819404"
       ]
      },
      {
       "output_type": "stream",
       "stream": "stdout",
       "text": [
        "\n",
        "0.500080542598"
       ]
      },
      {
       "output_type": "stream",
       "stream": "stdout",
       "text": [
        "\n",
        "0.500001910986"
       ]
      },
      {
       "output_type": "stream",
       "stream": "stdout",
       "text": [
        "\n",
        "0.500080855663"
       ]
      },
      {
       "output_type": "stream",
       "stream": "stdout",
       "text": [
        "\n",
        "0.500048974754"
       ]
      },
      {
       "output_type": "stream",
       "stream": "stdout",
       "text": [
        "\n",
        "0.500076071793"
       ]
      },
      {
       "output_type": "stream",
       "stream": "stdout",
       "text": [
        "\n",
        "0.500072965173"
       ]
      },
      {
       "output_type": "stream",
       "stream": "stdout",
       "text": [
        "\n",
        "0.500038227944"
       ]
      },
      {
       "output_type": "stream",
       "stream": "stdout",
       "text": [
        "\n",
        "0.500048366557"
       ]
      },
      {
       "output_type": "stream",
       "stream": "stdout",
       "text": [
        "\n",
        "0.500019978745"
       ]
      },
      {
       "output_type": "stream",
       "stream": "stdout",
       "text": [
        "\n",
        "0.500027062962"
       ]
      },
      {
       "output_type": "stream",
       "stream": "stdout",
       "text": [
        "\n",
        "0.500063168752"
       ]
      },
      {
       "output_type": "stream",
       "stream": "stdout",
       "text": [
        "\n",
        "0.500050439468"
       ]
      },
      {
       "output_type": "stream",
       "stream": "stdout",
       "text": [
        "\n",
        "0.500059311843"
       ]
      },
      {
       "output_type": "stream",
       "stream": "stdout",
       "text": [
        "\n",
        "0.50001534526"
       ]
      },
      {
       "output_type": "stream",
       "stream": "stdout",
       "text": [
        "\n",
        "0.500054305388"
       ]
      },
      {
       "output_type": "stream",
       "stream": "stdout",
       "text": [
        "\n",
        "0.500033334446"
       ]
      },
      {
       "output_type": "stream",
       "stream": "stdout",
       "text": [
        "\n",
        "0.500018369783"
       ]
      },
      {
       "output_type": "stream",
       "stream": "stdout",
       "text": [
        "\n",
        "0.500069038168"
       ]
      },
      {
       "output_type": "stream",
       "stream": "stdout",
       "text": [
        "\n",
        "0.500051427698"
       ]
      },
      {
       "output_type": "stream",
       "stream": "stdout",
       "text": [
        "\n",
        "0.500028350727"
       ]
      },
      {
       "output_type": "stream",
       "stream": "stdout",
       "text": [
        "\n",
        "0.500056646474"
       ]
      },
      {
       "output_type": "stream",
       "stream": "stdout",
       "text": [
        "\n",
        "0.500069679375"
       ]
      },
      {
       "output_type": "stream",
       "stream": "stdout",
       "text": [
        "\n",
        "0.500064848311"
       ]
      },
      {
       "output_type": "stream",
       "stream": "stdout",
       "text": [
        "\n",
        "0.500039790593"
       ]
      },
      {
       "output_type": "stream",
       "stream": "stdout",
       "text": [
        "\n",
        "0.500047896"
       ]
      },
      {
       "output_type": "stream",
       "stream": "stdout",
       "text": [
        "\n",
        "0.500028449411"
       ]
      },
      {
       "output_type": "stream",
       "stream": "stdout",
       "text": [
        "\n",
        "0.500033229906"
       ]
      },
      {
       "output_type": "stream",
       "stream": "stdout",
       "text": [
        "\n",
        "0.500056648422"
       ]
      },
      {
       "output_type": "stream",
       "stream": "stdout",
       "text": [
        "\n",
        "0.500042201457"
       ]
      },
      {
       "output_type": "stream",
       "stream": "stdout",
       "text": [
        "\n",
        "0.500039363453"
       ]
      },
      {
       "output_type": "stream",
       "stream": "stdout",
       "text": [
        "\n",
        "0.500043523275"
       ]
      },
      {
       "output_type": "stream",
       "stream": "stdout",
       "text": [
        "\n",
        "0.500050405118"
       ]
      },
      {
       "output_type": "stream",
       "stream": "stdout",
       "text": [
        "\n",
        "0.500056052514"
       ]
      },
      {
       "output_type": "stream",
       "stream": "stdout",
       "text": [
        "\n",
        "0.500056812923"
       ]
      },
      {
       "output_type": "stream",
       "stream": "stdout",
       "text": [
        "\n",
        "0.500049322987"
       ]
      },
      {
       "output_type": "stream",
       "stream": "stdout",
       "text": [
        "\n",
        "0.50003049427"
       ]
      },
      {
       "output_type": "stream",
       "stream": "stdout",
       "text": [
        "\n",
        "0.500041280864"
       ]
      },
      {
       "output_type": "stream",
       "stream": "stdout",
       "text": [
        "\n",
        "0.500032746954"
       ]
      },
      {
       "output_type": "stream",
       "stream": "stdout",
       "text": [
        "\n",
        "0.500044731219"
       ]
      },
      {
       "output_type": "stream",
       "stream": "stdout",
       "text": [
        "\n",
        "0.500030654885"
       ]
      },
      {
       "output_type": "stream",
       "stream": "stdout",
       "text": [
        "\n",
        "0.500029248484"
       ]
      },
      {
       "output_type": "stream",
       "stream": "stdout",
       "text": [
        "\n",
        "0.500035817686"
       ]
      },
      {
       "output_type": "stream",
       "stream": "stdout",
       "text": [
        "\n",
        "0.500046007783"
       ]
      },
      {
       "output_type": "stream",
       "stream": "stdout",
       "text": [
        "\n",
        "0.500017673743"
       ]
      },
      {
       "output_type": "stream",
       "stream": "stdout",
       "text": [
        "\n",
        "0.500024814933"
       ]
      },
      {
       "output_type": "stream",
       "stream": "stdout",
       "text": [
        "\n",
        "0.500024348967"
       ]
      },
      {
       "output_type": "stream",
       "stream": "stdout",
       "text": [
        "\n",
        "0.500049041653"
       ]
      },
      {
       "output_type": "stream",
       "stream": "stdout",
       "text": [
        "\n",
        "0.500022769479"
       ]
      },
      {
       "output_type": "stream",
       "stream": "stdout",
       "text": [
        "\n",
        "0.500014786977"
       ]
      },
      {
       "output_type": "stream",
       "stream": "stdout",
       "text": [
        "\n",
        "0.500019993993"
       ]
      },
      {
       "output_type": "stream",
       "stream": "stdout",
       "text": [
        "\n",
        "0.500033651633"
       ]
      },
      {
       "output_type": "stream",
       "stream": "stdout",
       "text": [
        "\n",
        "0.500018836303"
       ]
      },
      {
       "output_type": "stream",
       "stream": "stdout",
       "text": [
        "\n",
        "0.500037818279"
       ]
      },
      {
       "output_type": "stream",
       "stream": "stdout",
       "text": [
        "\n",
        "0.500021738445"
       ]
      },
      {
       "output_type": "stream",
       "stream": "stdout",
       "text": [
        "\n",
        "0.500030907668"
       ]
      },
      {
       "output_type": "stream",
       "stream": "stdout",
       "text": [
        "\n",
        "0.500029637091"
       ]
      },
      {
       "output_type": "stream",
       "stream": "stdout",
       "text": [
        "\n",
        "0.500044506144"
       ]
      },
      {
       "output_type": "stream",
       "stream": "stdout",
       "text": [
        "\n",
        "0.500041699625"
       ]
      },
      {
       "output_type": "stream",
       "stream": "stdout",
       "text": [
        "\n",
        "0.500047239645"
       ]
      },
      {
       "output_type": "stream",
       "stream": "stdout",
       "text": [
        "\n",
        "0.500029087376"
       ]
      },
      {
       "output_type": "stream",
       "stream": "stdout",
       "text": [
        "\n",
        "0.500039927471"
       ]
      },
      {
       "output_type": "stream",
       "stream": "stdout",
       "text": [
        "\n",
        "0.500047276223"
       ]
      },
      {
       "output_type": "stream",
       "stream": "stdout",
       "text": [
        "\n",
        "0.500047857379"
       ]
      },
      {
       "output_type": "stream",
       "stream": "stdout",
       "text": [
        "\n",
        "0.500038708069"
       ]
      },
      {
       "output_type": "stream",
       "stream": "stdout",
       "text": [
        "\n",
        "0.500042318724"
       ]
      },
      {
       "output_type": "stream",
       "stream": "stdout",
       "text": [
        "\n",
        "0.500054361395"
       ]
      },
      {
       "output_type": "stream",
       "stream": "stdout",
       "text": [
        "\n",
        "0.500070900831"
       ]
      },
      {
       "output_type": "stream",
       "stream": "stdout",
       "text": [
        "\n",
        "0.500088387714"
       ]
      },
      {
       "output_type": "stream",
       "stream": "stdout",
       "text": [
        "\n",
        "0.50008041922"
       ]
      },
      {
       "output_type": "stream",
       "stream": "stdout",
       "text": [
        "\n",
        "0.500114361563"
       ]
      },
      {
       "output_type": "stream",
       "stream": "stdout",
       "text": [
        "\n"
       ]
      }
     ],
     "prompt_number": 2
    },
    {
     "cell_type": "code",
     "collapsed": false,
     "input": [
      "plt.plot(dx*x,u)"
     ],
     "language": "python",
     "metadata": {},
     "outputs": [
      {
       "metadata": {},
       "output_type": "pyout",
       "prompt_number": 6,
       "text": [
        "[<matplotlib.lines.Line2D at 0x3abbed0>]"
       ]
      },
      {
       "metadata": {},
       "output_type": "display_data",
       "png": "[encoded data removed]",
       "text": [
        "<matplotlib.figure.Figure at 0x36c1410>"
       ]
      }
     ],
     "prompt_number": 6
    },
    {
     "cell_type": "code",
     "collapsed": false,
     "input": [
      "print alpha"
     ],
     "language": "python",
     "metadata": {},
     "outputs": [
      {
       "output_type": "stream",
       "stream": "stdout",
       "text": [
        "0.500114361563\n"
       ]
      }
     ],
     "prompt_number": 7
    },
    {
     "cell_type": "code",
     "collapsed": false,
     "input": [],
     "language": "python",
     "metadata": {},
     "outputs": []
    }
   ],
   "metadata": {}
  }
 ]
}